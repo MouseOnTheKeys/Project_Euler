{
 "cells": [
  {
   "cell_type": "markdown",
   "metadata": {},
   "source": [
    "# Problem 3\n",
    "\n",
    "## Largest prime factor"
   ]
  },
  {
   "cell_type": "markdown",
   "metadata": {},
   "source": [
    "\n",
    "The prime factors of 13195 are 5, 7, 13 and 29.\n",
    "\n",
    "What is the largest prime factor of the number 600851475143 ?\n"
   ]
  },
  {
   "cell_type": "markdown",
   "metadata": {},
   "source": [
    "</br>"
   ]
  },
  {
   "cell_type": "markdown",
   "metadata": {},
   "source": [
    "### Python Answer\n",
    "\n",
    "Explanation link for <a href='https://en.wikipedia.org/wiki/Prime_number'>Prime Numbers</a>.\n"
   ]
  },
  {
   "cell_type": "markdown",
   "metadata": {},
   "source": [
    "So what we need to do here to see if a number n is prime?\n",
    "1. we need to see wheather n is evenly divisible by 2\n",
    "2. we need to check whether n is evenly divisible by one of the uneven numbers from 3 to sqrt(n)+1\n",
    "3. n is prime, if neither 1 nor 2 requirements are met.\n",
    "\n",
    "4. we now need to repetedly(loop thru) divide n by its smallest prime factor \n",
    "   untill we can`t divide anymore, that way we will get largest prime factor\n",
    "\n",
    "we will import numpy lib for easier sqr function...\n"
   ]
  },
  {
   "cell_type": "markdown",
   "metadata": {},
   "source": [
    "```python\n",
    "import numpy as np\n",
    "\n",
    "def small_prime_fac(number):\n",
    "    upper_bound = int(np.sqrt(number)) + 1\n",
    "\n",
    "    for i in range(2, upper_bound):\n",
    "        if number % i == 0:\n",
    "            return i\n",
    "\n",
    "    return number\n",
    "\n",
    "\n",
    "def large_prime_fac(number):\n",
    "    while True:\n",
    "        smallest_factor = small_prime_fac(number)\n",
    "\n",
    "        if smallest_factor < number:\n",
    "            number //= smallest_factor\n",
    "        else:\n",
    "            return number\n",
    "\n",
    "\n",
    "ans = large_prime_fac(600851475143)\n",
    "print('Answer is: ', ans)\n",
    "```"
   ]
  },
  {
   "cell_type": "markdown",
   "metadata": {},
   "source": [
    "```\n",
    "Answer is: 6857\n",
    "```"
   ]
  },
  {
   "cell_type": "markdown",
   "metadata": {},
   "source": [
    "### Solution in C\n",
    "```C\n",
    "#include <stdio.h>\n",
    "#include <math.h>\n",
    "\n",
    "#define NUM 600851475143\n",
    "\n",
    "// function for finding the smallest prime factor\n",
    "int Prime(int test)\n",
    "{\n",
    "    int i=0;\n",
    "    int calc=((int) sqrt(test));\n",
    "\n",
    "    for(i = 3; i <= calc; i+=2)\n",
    "    {\n",
    "        if(test % i == 0)\n",
    "        {\n",
    "            return 0;\n",
    "        }\n",
    "    }\n",
    "\n",
    "    return 1;\n",
    "}\n",
    "\n",
    "// dividing asking number with samllest prime factor untill we find largest prime factor\n",
    "int main()\n",
    "{\n",
    "    int largest=0;\n",
    "    int i=0;\n",
    "\n",
    "\n",
    "    while(1)\n",
    "    {\n",
    "        for(i=3; ; i+=2)\n",
    "        {\n",
    "            if(Prime(i))\n",
    "            {\n",
    "                if(NUM%i==0)\n",
    "                    largest=i;\n",
    "                if(i>=(sqrt(NUM)))\n",
    "                    goto END;\n",
    "            }\n",
    "        }\n",
    "    }\n",
    "\n",
    "    END:\n",
    "    printf(\"%d\", largest);\n",
    "    return 0;\n",
    "}\n",
    "```"
   ]
  },
  {
   "cell_type": "markdown",
   "metadata": {},
   "source": [
    "Output: 6857"
   ]
  },
  {
   "cell_type": "code",
   "execution_count": null,
   "metadata": {},
   "outputs": [],
   "source": []
  }
 ],
 "metadata": {
  "kernelspec": {
   "display_name": "Python 3",
   "language": "python",
   "name": "python3"
  },
  "language_info": {
   "codemirror_mode": {
    "name": "ipython",
    "version": 3
   },
   "file_extension": ".py",
   "mimetype": "text/x-python",
   "name": "python",
   "nbconvert_exporter": "python",
   "pygments_lexer": "ipython3",
   "version": "3.7.5"
  }
 },
 "nbformat": 4,
 "nbformat_minor": 2
}
