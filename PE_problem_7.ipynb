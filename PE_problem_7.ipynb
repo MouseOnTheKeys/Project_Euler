{
 "cells": [
  {
   "cell_type": "markdown",
   "metadata": {},
   "source": [
    "# Problem 7"
   ]
  },
  {
   "cell_type": "markdown",
   "metadata": {},
   "source": [
    "## 10001st prime"
   ]
  },
  {
   "cell_type": "markdown",
   "metadata": {},
   "source": [
    "</br>\n",
    "\n",
    "By listing the first six prime numbers: 2, 3, 5, 7, 11, and 13, we can see that the 6th prime is 13.\n",
    "\n",
    "What is the 10 001st prime number?\n"
   ]
  },
  {
   "cell_type": "markdown",
   "metadata": {},
   "source": [
    "</br>"
   ]
  },
  {
   "cell_type": "markdown",
   "metadata": {},
   "source": [
    "In Project Euler problem 5 we had a factorisation, I will use that here again.\n",
    "With this function we can calculate nth prime number so it will give the right soluttion, but the computation behind it is not optimal, runtime is far too long."
   ]
  },
  {
   "cell_type": "markdown",
   "metadata": {},
   "source": [
    "```python \n",
    "# function to factor a given positive integer n\n",
    "def fact(n):\n",
    "    fact = []\n",
    "    # remove any factors of 2 first\n",
    "    while n % 2 == 0:\n",
    "        fact.append(2)\n",
    "        n = n/2\n",
    "    # now look for odd factors\n",
    "    p = 3\n",
    "    while n != 1:\n",
    "        while n % p == 0:\n",
    "            fact.append(p)\n",
    "            n = n/p\n",
    "        p += 2\n",
    "    return fact\n",
    " \n",
    "def nth_prime(n):\n",
    "    prime = 2 # last prime\n",
    "    count = 1 # number of primes\n",
    "    num = 3 # next number to check\n",
    "    while count < n:\n",
    "        if len(fact(num)) == 1:\n",
    "            prime = num\n",
    "            count += 1\n",
    "        num += 2 # only check odd numbers\n",
    "    return prime\n",
    "\n",
    "prime = nth_prime(10001)\n",
    "\n",
    "print (\"Answer is: {}\".format(prime))\n",
    "```"
   ]
  },
  {
   "cell_type": "markdown",
   "metadata": {},
   "source": [
    "Answer is: 104743"
   ]
  },
  {
   "cell_type": "markdown",
   "metadata": {},
   "source": [
    "## Solution in C\n"
   ]
  },
  {
   "cell_type": "markdown",
   "metadata": {},
   "source": [
    "Aftert Python code we see that checking individualy for primes is not effective way, after research I will implement <a  href=\"https://en.wikipedia.org/wiki/Sieve_of_Eratosthenes\">Sieve of Eratosthenes</a> algorithm.\n",
    "Which will give much more effective solution. Ofc it was posible to use it in Python code and even make it more faster with euler code library in Python, but this way gives more understanding behind problem."
   ]
  },
  {
   "cell_type": "markdown",
   "metadata": {},
   "source": [
    "```C\n",
    "#include <inttypes.h>\n",
    "#include <stdio.h>\n",
    "#include <stdlib.h>\n",
    "#include <stdint.h>\n",
    "\n",
    "int main()\n",
    "{\n",
    "\t/* find all primes below 1M with the sieve of Eratosthenes. Stop once\n",
    "\t * we find the 10001st prime. */\n",
    "     \n",
    "\tint N = 1000000, c = 10001, i;\n",
    "\tint *sieve = (uint8_t*)calloc(N, sizeof(int));\n",
    "\tfor (i = 0; i < N; ++i) sieve[i] = 1;\n",
    "\n",
    "\tfor (i = 2; i < N; ++i) /* start at 2 because 1 is not prime */\n",
    "\t{\n",
    "\t\tif (sieve[i-1])\n",
    "\t\t{\n",
    "\t\t\tif (--c < 1) break;\n",
    "\t\t\tfor (int j = 2*i; j < N+1; j += i)\n",
    "\t\t\t\tsieve[j-1] = 0;\n",
    "\t\t}\n",
    "\t}\n",
    "\n",
    "\tprintf(\"Output: %d \", i);\n",
    "\tfree(sieve);\n",
    "\treturn 0;\n",
    "}\n",
    "```"
   ]
  },
  {
   "cell_type": "markdown",
   "metadata": {},
   "source": [
    "Output: 104743"
   ]
  },
  {
   "cell_type": "code",
   "execution_count": null,
   "metadata": {},
   "outputs": [],
   "source": []
  },
  {
   "cell_type": "code",
   "execution_count": null,
   "metadata": {},
   "outputs": [],
   "source": []
  }
 ],
 "metadata": {
  "kernelspec": {
   "display_name": "Python 3",
   "language": "python",
   "name": "python3"
  },
  "language_info": {
   "codemirror_mode": {
    "name": "ipython",
    "version": 3
   },
   "file_extension": ".py",
   "mimetype": "text/x-python",
   "name": "python",
   "nbconvert_exporter": "python",
   "pygments_lexer": "ipython3",
   "version": "3.7.5"
  }
 },
 "nbformat": 4,
 "nbformat_minor": 2
}
