{
 "cells": [
  {
   "cell_type": "markdown",
   "metadata": {},
   "source": [
    "# Problem 6\n",
    "\n",
    "## Sum square difference\n",
    "\n",
    "\n",
    "\n",
    "\n",
    "\n",
    "The sum of the squares of the first ten natural numbers is,\n",
    "1<sup>2</sup> + 2<sup>2</sup> + ... + 10<sup>2</sup> = 385\n",
    "\n",
    "The square of the sum of the first ten natural numbers is,\n",
    "(1 + 2 + ... + 10)<sup>2</sup> = 55<sup>2</sup> = 3025\n",
    "\n",
    "Hence the difference between the sum of the squares of the first ten natural numbers and the square of the sum is 3025 − 385 = 2640.\n",
    "\n",
    "Find the difference between the sum of the squares of the first one hundred natural numbers and the square of the sum.\n",
    "\n"
   ]
  },
  {
   "cell_type": "markdown",
   "metadata": {},
   "source": [
    "</br>"
   ]
  },
  {
   "cell_type": "markdown",
   "metadata": {},
   "source": [
    "There are more ways to approach this problem, I will try to make it the shortest not the fastest in Python. Since there are many ways to implement math functions in Python, I will present one solution."
   ]
  },
  {
   "cell_type": "markdown",
   "metadata": {},
   "source": [
    "```python \n",
    "def ans():\n",
    "\tN = 100\n",
    "\ts = sum(i for i in range(1, N + 1))\n",
    "\ts2 = sum(i**2 for i in range(1, N + 1))\n",
    "\treturn str(s**2 - s2)\n",
    "ans()\n",
    "```"
   ]
  },
  {
   "cell_type": "markdown",
   "metadata": {},
   "source": [
    "Answer is: 25164150"
   ]
  },
  {
   "cell_type": "markdown",
   "metadata": {},
   "source": [
    "## Solution in C"
   ]
  },
  {
   "cell_type": "markdown",
   "metadata": {},
   "source": [
    "Writting the same formula in from Python in C will go something like this,\n",
    "calclation is much faster in C ofc.\n",
    "\n",
    "```C\n",
    " /* a = 1^2 + 2^2 + 3^2 + [...] + 100^2\n",
    " * b = (1 + 2 + 3 + [...] + 100)^2 */\n",
    " \n",
    "int main()\n",
    "{\n",
    "    int MAX = 100, a = 0, b = 0;\n",
    "\n",
    "\tfor (int i = 1; i < MAX+1; ++i)\n",
    "\t{\n",
    "\t\ta += i*i;\n",
    "\t\tb += i;\n",
    "\t}\n",
    "\n",
    "\tb *= b;\n",
    "\n",
    "\tprintf(\"Output: %d\"  \"\\n\", b-a);\n",
    "\treturn 0;\n",
    "}\n",
    "\n",
    "```"
   ]
  },
  {
   "cell_type": "markdown",
   "metadata": {},
   "source": [
    "Output: 25164150"
   ]
  },
  {
   "cell_type": "code",
   "execution_count": null,
   "metadata": {},
   "outputs": [],
   "source": []
  }
 ],
 "metadata": {
  "kernelspec": {
   "display_name": "Python 3",
   "language": "python",
   "name": "python3"
  },
  "language_info": {
   "codemirror_mode": {
    "name": "ipython",
    "version": 3
   },
   "file_extension": ".py",
   "mimetype": "text/x-python",
   "name": "python",
   "nbconvert_exporter": "python",
   "pygments_lexer": "ipython3",
   "version": "3.7.5"
  }
 },
 "nbformat": 4,
 "nbformat_minor": 2
}
