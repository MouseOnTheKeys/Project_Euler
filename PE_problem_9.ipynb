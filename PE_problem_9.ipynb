{
 "cells": [
  {
   "cell_type": "markdown",
   "metadata": {},
   "source": [
    "# Problem 9\n",
    "\n",
    "## Special Pythagorean triplet\n"
   ]
  },
  {
   "cell_type": "markdown",
   "metadata": {},
   "source": [
    "\n",
    "\n",
    "A Pythagorean triplet is a set of three natural numbers, $a < b < c$, for which,\n",
    "$a^2 + b^2 = c^2$\n",
    "\n",
    "For example, $32 + 42 = 9 + 16 = 25 = 52$.\n",
    "\n",
    "There exists exactly one Pythagorean triplet for which $a + b + c = 1000$.\n",
    "Find the product $abc$.\n"
   ]
  },
  {
   "cell_type": "markdown",
   "metadata": {},
   "source": [
    "I implemented the solution with brute force algorithm, it is posible to find more elegant solution using \n",
    "[Sieve of Eratosthenes](https://en.wikipedia.org/wiki/Sieve_of_Eratosthenes)\n",
    "\n",
    "```python\n",
    "def comp():\n",
    "    dummy = 1000\n",
    "    for a in range(1, dummy + 1):\n",
    "        for b in range(a + 1, dummy + 1):\n",
    "            c = dummy - a - b\n",
    "            if a * a + b * b == c * c:\n",
    "                # It is now implied that b < c, because we have a > 0\n",
    "                return str(a * b * c)\n",
    "\n",
    "\n",
    "\n",
    "print(\"Answer is: \",comp())\n",
    "```\n",
    "\n",
    "Answer is: 31875000"
   ]
  },
  {
   "cell_type": "markdown",
   "metadata": {},
   "source": [
    "## Solution in C\n",
    "<br/>"
   ]
  },
  {
   "cell_type": "markdown",
   "metadata": {},
   "source": [
    "```c\n",
    "\n",
    "int main()\n",
    "{\n",
    "\t/* iterate over all (a, b, c) triples verifying a+b+c = 1000, keep the one that also verify Pythagor relation */\n",
    "\tint MAX = 1000, a, b, c, prod;\n",
    "\n",
    "\tfor (a = 0; a < MAX; ++a)\n",
    "\t\tfor (b = a+1; b < MAX; ++b)\n",
    "\t\t{\n",
    "\t\t\tc = MAX - a - b;\n",
    "\t\t\tif (a*a + b*b == c*c)\n",
    "\t\t\t\tprod = a*b*c;\n",
    "\t\t}\n",
    "\n",
    "\tprintf(\"Answer is: %d\\n\", prod);\n",
    "\treturn 0;\n",
    "}\n",
    "```"
   ]
  },
  {
   "cell_type": "markdown",
   "metadata": {},
   "source": [
    "Answer is :  31875000"
   ]
  },
  {
   "cell_type": "code",
   "execution_count": null,
   "metadata": {},
   "outputs": [],
   "source": []
  }
 ],
 "metadata": {
  "kernelspec": {
   "display_name": "Python 3",
   "language": "python",
   "name": "python3"
  },
  "language_info": {
   "codemirror_mode": {
    "name": "ipython",
    "version": 3
   },
   "file_extension": ".py",
   "mimetype": "text/x-python",
   "name": "python",
   "nbconvert_exporter": "python",
   "pygments_lexer": "ipython3",
   "version": "3.7.5"
  }
 },
 "nbformat": 4,
 "nbformat_minor": 2
}
