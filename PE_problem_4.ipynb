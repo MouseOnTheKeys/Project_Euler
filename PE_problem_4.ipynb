{
 "cells": [
  {
   "cell_type": "markdown",
   "metadata": {},
   "source": [
    "# Problem 4\n",
    "\n",
    "## Largest palindrome product\n",
    "\n",
    "\n",
    "\n",
    "A palindromic number reads the same both ways. The largest palindrome made from the product of two 2-digit numbers is 9009 = 91 × 99.\n",
    "\n",
    "Find the largest palindrome made from the product of two 3-digit numbers.\n"
   ]
  },
  {
   "cell_type": "markdown",
   "metadata": {},
   "source": [
    "</br>"
   ]
  },
  {
   "cell_type": "markdown",
   "metadata": {},
   "source": [
    "1. I wrote the function that will make a product of two 3-digit numbers \n",
    "2. After thet it will add the condition that the product must be a palindrom\n",
    "3. With 'max' command before loop, I'm printing the highest result."
   ]
  },
  {
   "cell_type": "markdown",
   "metadata": {},
   "source": [
    "```python\n",
    "def answer():\n",
    "\tproduct = max(i * j\n",
    "\t\tfor i in range(100, 1000)\n",
    "\t\tfor j in range(100, 1000)\n",
    "\t\tif str(i * j) == str(i * j)[ : : -1])\n",
    "\treturn str(product)\n",
    "answer()\n",
    "```"
   ]
  },
  {
   "cell_type": "markdown",
   "metadata": {},
   "source": [
    "Answer is : 906609"
   ]
  },
  {
   "cell_type": "markdown",
   "metadata": {},
   "source": [
    "## Solution in C"
   ]
  },
  {
   "cell_type": "markdown",
   "metadata": {},
   "source": [
    "```C\n",
    "#include <stdio.h>\n",
    "#include <string.h>\n",
    "\n",
    "/*The first thing I'm making the function to test if the string is palindrom,\n",
    "Functiion will convert integer into string check its length and check for palindrom*/\n",
    "\n",
    "int palindrome(const int *Prod)\n",
    "{\n",
    "    char string[6];\n",
    "    int length=0;\n",
    "\n",
    "    sprintf(string, \"%d\", (*Prod) );\n",
    "    length=strlen(string);\n",
    "\n",
    "    switch(length)\n",
    "    {\n",
    "        case 5:\n",
    "        if(string[0]==string[4] && string[1]==string[3])\n",
    "            return 1;\n",
    "\n",
    "        case 6:\n",
    "    if(string[0]==string[5]&&string[1]==string[4]&&string[2]==string[3])\n",
    "            return 1;\n",
    "\n",
    "        default:\n",
    "            return 0;\n",
    "    };  //End of switch statment\n",
    "\n",
    "    return 0;\n",
    "}\n",
    "/*Main Program made of two nested for loops with palindrom function,\n",
    "printing highest product number of two 3-digits integer */\n",
    "\n",
    "int main()\n",
    "{\n",
    "    int prod=0;\n",
    "    int *Prod=&prod;\n",
    "    int highest=0;\n",
    "    int *Highest=&highest;\n",
    "    int i=0;\n",
    "    int j=0;\n",
    "\n",
    "    for(i=1000; i>100; i--)\n",
    "    {\n",
    "        for(j=1000; j>100; j--)\n",
    "        {\n",
    "            prod=i*j;\n",
    "\n",
    "            if(palindrome(Prod) && (*Prod)>(*Highest) )\n",
    "            {\n",
    "                highest=i*j;\n",
    "            }\n",
    "        }\n",
    "    }\n",
    "\n",
    "    printf(\"%d\\n\", highest);\n",
    "    return 0;\n",
    "}\n",
    "```"
   ]
  },
  {
   "cell_type": "markdown",
   "metadata": {},
   "source": [
    "Output: 906609"
   ]
  },
  {
   "cell_type": "code",
   "execution_count": null,
   "metadata": {},
   "outputs": [],
   "source": []
  }
 ],
 "metadata": {
  "kernelspec": {
   "display_name": "Python 3",
   "language": "python",
   "name": "python3"
  },
  "language_info": {
   "codemirror_mode": {
    "name": "ipython",
    "version": 3
   },
   "file_extension": ".py",
   "mimetype": "text/x-python",
   "name": "python",
   "nbconvert_exporter": "python",
   "pygments_lexer": "ipython3",
   "version": "3.7.5"
  }
 },
 "nbformat": 4,
 "nbformat_minor": 2
}
